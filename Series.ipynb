{
  "nbformat": 4,
  "nbformat_minor": 0,
  "metadata": {
    "colab": {
      "name": "Series.ipynb",
      "provenance": [],
      "authorship_tag": "ABX9TyO7BXLJxA0nvJubFotcVGxQ",
      "include_colab_link": true
    },
    "kernelspec": {
      "name": "python3",
      "display_name": "Python 3"
    },
    "language_info": {
      "name": "python"
    }
  },
  "cells": [
    {
      "cell_type": "markdown",
      "metadata": {
        "id": "view-in-github",
        "colab_type": "text"
      },
      "source": [
        "<a href=\"https://colab.research.google.com/github/skywalker0803r/Calculus/blob/master/Series.ipynb\" target=\"_parent\"><img src=\"https://colab.research.google.com/assets/colab-badge.svg\" alt=\"Open In Colab\"/></a>"
      ]
    },
    {
      "cell_type": "code",
      "metadata": {
        "id": "1eLTtQomhX5I"
      },
      "source": [
        "import numpy as np"
      ],
      "execution_count": 32,
      "outputs": []
    },
    {
      "cell_type": "markdown",
      "metadata": {
        "id": "2ZIDzCgGkhOz"
      },
      "source": [
        "# example1"
      ]
    },
    {
      "cell_type": "code",
      "metadata": {
        "colab": {
          "base_uri": "https://localhost:8080/"
        },
        "id": "OEdYig9mhsOb",
        "outputId": "9075585c-66d6-4f5a-bacc-a5d3a691f720"
      },
      "source": [
        "def f1(n):\n",
        "  return (-1)**n\n",
        "sum = []\n",
        "for i in range(9999):\n",
        "  sum.append(f1(i))\n",
        "sum[-1]"
      ],
      "execution_count": 41,
      "outputs": [
        {
          "output_type": "execute_result",
          "data": {
            "text/plain": [
              "1"
            ]
          },
          "metadata": {
            "tags": []
          },
          "execution_count": 41
        }
      ]
    },
    {
      "cell_type": "code",
      "metadata": {
        "colab": {
          "base_uri": "https://localhost:8080/"
        },
        "id": "pPM1LZkvhu4-",
        "outputId": "08ac7366-e1c1-4cff-e659-2cc8a515105f"
      },
      "source": [
        "def f2(n):\n",
        "  return np.log(n)/n\n",
        "sum = []\n",
        "for i in range(9999):\n",
        "  sum.append(f2(i))\n",
        "sum[-1]"
      ],
      "execution_count": 44,
      "outputs": [
        {
          "output_type": "stream",
          "text": [
            "/usr/local/lib/python3.7/dist-packages/ipykernel_launcher.py:2: RuntimeWarning: divide by zero encountered in log\n",
            "  \n"
          ],
          "name": "stderr"
        },
        {
          "output_type": "execute_result",
          "data": {
            "text/plain": [
              "0.000921198274852322"
            ]
          },
          "metadata": {
            "tags": []
          },
          "execution_count": 44
        }
      ]
    },
    {
      "cell_type": "code",
      "metadata": {
        "colab": {
          "base_uri": "https://localhost:8080/"
        },
        "id": "CF_V8Nprh8i_",
        "outputId": "df9f04f0-79cf-4632-9ac2-c1623ed40253"
      },
      "source": [
        "def f3(n):\n",
        "  return n/(n+1)\n",
        "sum = []\n",
        "for i in range(9999):\n",
        "  sum.append(f3(i))\n",
        "sum[-1]"
      ],
      "execution_count": 45,
      "outputs": [
        {
          "output_type": "execute_result",
          "data": {
            "text/plain": [
              "0.9998999899989999"
            ]
          },
          "metadata": {
            "tags": []
          },
          "execution_count": 45
        }
      ]
    },
    {
      "cell_type": "markdown",
      "metadata": {
        "id": "H3SW2x5WlojB"
      },
      "source": [
        "# example2"
      ]
    },
    {
      "cell_type": "code",
      "metadata": {
        "colab": {
          "base_uri": "https://localhost:8080/"
        },
        "id": "mzw0A5BQlLEO",
        "outputId": "8c73132c-7c07-45a3-f938-8a7f1233ebdc"
      },
      "source": [
        "def f4(n):\n",
        "  a = 2**(2*n)\n",
        "  b = 3**(1-n)\n",
        "  return a*b\n",
        "sum = []\n",
        "for i in range(99):\n",
        "  sum.append(f4(i))\n",
        "sum[-1]"
      ],
      "execution_count": 50,
      "outputs": [
        {
          "output_type": "execute_result",
          "data": {
            "text/plain": [
              "5261595317225.902"
            ]
          },
          "metadata": {
            "tags": []
          },
          "execution_count": 50
        }
      ]
    },
    {
      "cell_type": "code",
      "metadata": {
        "id": "ktKxkpT2l1Sv"
      },
      "source": [
        ""
      ],
      "execution_count": null,
      "outputs": []
    }
  ]
}